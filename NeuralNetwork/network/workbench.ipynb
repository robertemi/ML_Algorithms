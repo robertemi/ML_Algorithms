{
 "cells": [
  {
   "cell_type": "code",
   "execution_count": 221,
   "id": "209b309c",
   "metadata": {},
   "outputs": [],
   "source": [
    "import pandas as pd\n",
    "import numpy as np\n",
    "import random\n",
    "from sklearn.preprocessing import OneHotEncoder"
   ]
  },
  {
   "cell_type": "code",
   "execution_count": 222,
   "id": "0a7438f7",
   "metadata": {},
   "outputs": [
    {
     "data": {
      "text/html": [
       "<div>\n",
       "<style scoped>\n",
       "    .dataframe tbody tr th:only-of-type {\n",
       "        vertical-align: middle;\n",
       "    }\n",
       "\n",
       "    .dataframe tbody tr th {\n",
       "        vertical-align: top;\n",
       "    }\n",
       "\n",
       "    .dataframe thead th {\n",
       "        text-align: right;\n",
       "    }\n",
       "</style>\n",
       "<table border=\"1\" class=\"dataframe\">\n",
       "  <thead>\n",
       "    <tr style=\"text-align: right;\">\n",
       "      <th></th>\n",
       "      <th>SepalLength</th>\n",
       "      <th>SepalWidth</th>\n",
       "      <th>PetalLength</th>\n",
       "      <th>PetalWidth</th>\n",
       "      <th>Name</th>\n",
       "    </tr>\n",
       "  </thead>\n",
       "  <tbody>\n",
       "    <tr>\n",
       "      <th>0</th>\n",
       "      <td>5.1</td>\n",
       "      <td>3.5</td>\n",
       "      <td>1.4</td>\n",
       "      <td>0.2</td>\n",
       "      <td>Iris-setosa</td>\n",
       "    </tr>\n",
       "    <tr>\n",
       "      <th>1</th>\n",
       "      <td>4.9</td>\n",
       "      <td>3.0</td>\n",
       "      <td>1.4</td>\n",
       "      <td>0.2</td>\n",
       "      <td>Iris-setosa</td>\n",
       "    </tr>\n",
       "    <tr>\n",
       "      <th>2</th>\n",
       "      <td>4.7</td>\n",
       "      <td>3.2</td>\n",
       "      <td>1.3</td>\n",
       "      <td>0.2</td>\n",
       "      <td>Iris-setosa</td>\n",
       "    </tr>\n",
       "    <tr>\n",
       "      <th>3</th>\n",
       "      <td>4.6</td>\n",
       "      <td>3.1</td>\n",
       "      <td>1.5</td>\n",
       "      <td>0.2</td>\n",
       "      <td>Iris-setosa</td>\n",
       "    </tr>\n",
       "    <tr>\n",
       "      <th>4</th>\n",
       "      <td>5.0</td>\n",
       "      <td>3.6</td>\n",
       "      <td>1.4</td>\n",
       "      <td>0.2</td>\n",
       "      <td>Iris-setosa</td>\n",
       "    </tr>\n",
       "  </tbody>\n",
       "</table>\n",
       "</div>"
      ],
      "text/plain": [
       "   SepalLength  SepalWidth  PetalLength  PetalWidth         Name\n",
       "0          5.1         3.5          1.4         0.2  Iris-setosa\n",
       "1          4.9         3.0          1.4         0.2  Iris-setosa\n",
       "2          4.7         3.2          1.3         0.2  Iris-setosa\n",
       "3          4.6         3.1          1.5         0.2  Iris-setosa\n",
       "4          5.0         3.6          1.4         0.2  Iris-setosa"
      ]
     },
     "execution_count": 222,
     "metadata": {},
     "output_type": "execute_result"
    }
   ],
   "source": [
    "df = pd.read_csv('./data/iris.csv')\n",
    "df.head()"
   ]
  },
  {
   "cell_type": "code",
   "execution_count": 223,
   "id": "a74bc065",
   "metadata": {},
   "outputs": [
    {
     "data": {
      "text/plain": [
       "3"
      ]
     },
     "execution_count": 223,
     "metadata": {},
     "output_type": "execute_result"
    }
   ],
   "source": [
    "len(pd.unique(df['Name']))"
   ]
  },
  {
   "cell_type": "code",
   "execution_count": 224,
   "id": "087cf3bc",
   "metadata": {},
   "outputs": [
    {
     "data": {
      "text/plain": [
       "(150, 5)"
      ]
     },
     "execution_count": 224,
     "metadata": {},
     "output_type": "execute_result"
    }
   ],
   "source": [
    "data = np.array(df)\n",
    "np.random.shuffle(data)\n",
    "data.shape"
   ]
  },
  {
   "cell_type": "code",
   "execution_count": 225,
   "id": "8bf53218",
   "metadata": {},
   "outputs": [],
   "source": [
    "X = data[:, 0:4]\n",
    "y = data[:, -1]\n"
   ]
  },
  {
   "cell_type": "code",
   "execution_count": 226,
   "id": "07391a2b",
   "metadata": {},
   "outputs": [
    {
     "data": {
      "text/plain": [
       "array(['Iris-setosa', 'Iris-virginica', 'Iris-versicolor',\n",
       "       'Iris-versicolor', 'Iris-virginica', 'Iris-virginica',\n",
       "       'Iris-setosa', 'Iris-versicolor', 'Iris-versicolor',\n",
       "       'Iris-virginica', 'Iris-setosa', 'Iris-setosa', 'Iris-virginica',\n",
       "       'Iris-versicolor', 'Iris-versicolor', 'Iris-setosa', 'Iris-setosa',\n",
       "       'Iris-setosa', 'Iris-setosa', 'Iris-setosa', 'Iris-versicolor',\n",
       "       'Iris-virginica', 'Iris-versicolor', 'Iris-virginica',\n",
       "       'Iris-virginica', 'Iris-virginica', 'Iris-setosa', 'Iris-setosa',\n",
       "       'Iris-versicolor', 'Iris-setosa', 'Iris-versicolor',\n",
       "       'Iris-virginica', 'Iris-versicolor', 'Iris-versicolor',\n",
       "       'Iris-versicolor', 'Iris-versicolor', 'Iris-virginica',\n",
       "       'Iris-setosa', 'Iris-versicolor', 'Iris-versicolor',\n",
       "       'Iris-virginica', 'Iris-virginica', 'Iris-versicolor',\n",
       "       'Iris-versicolor', 'Iris-versicolor', 'Iris-virginica',\n",
       "       'Iris-virginica', 'Iris-versicolor', 'Iris-virginica',\n",
       "       'Iris-virginica', 'Iris-setosa', 'Iris-setosa', 'Iris-versicolor',\n",
       "       'Iris-virginica', 'Iris-setosa', 'Iris-setosa', 'Iris-versicolor',\n",
       "       'Iris-versicolor', 'Iris-versicolor', 'Iris-versicolor',\n",
       "       'Iris-setosa', 'Iris-virginica', 'Iris-versicolor',\n",
       "       'Iris-versicolor', 'Iris-virginica', 'Iris-virginica',\n",
       "       'Iris-versicolor', 'Iris-virginica', 'Iris-versicolor',\n",
       "       'Iris-setosa', 'Iris-setosa', 'Iris-setosa', 'Iris-setosa',\n",
       "       'Iris-setosa', 'Iris-versicolor', 'Iris-virginica',\n",
       "       'Iris-virginica', 'Iris-versicolor', 'Iris-virginica',\n",
       "       'Iris-versicolor', 'Iris-versicolor', 'Iris-setosa',\n",
       "       'Iris-virginica', 'Iris-versicolor', 'Iris-virginica',\n",
       "       'Iris-setosa', 'Iris-virginica', 'Iris-virginica',\n",
       "       'Iris-virginica', 'Iris-setosa', 'Iris-versicolor', 'Iris-setosa',\n",
       "       'Iris-virginica', 'Iris-virginica', 'Iris-versicolor',\n",
       "       'Iris-versicolor', 'Iris-virginica', 'Iris-setosa',\n",
       "       'Iris-virginica', 'Iris-versicolor', 'Iris-setosa',\n",
       "       'Iris-virginica', 'Iris-virginica', 'Iris-setosa', 'Iris-setosa',\n",
       "       'Iris-versicolor', 'Iris-versicolor', 'Iris-setosa', 'Iris-setosa',\n",
       "       'Iris-virginica', 'Iris-virginica', 'Iris-virginica',\n",
       "       'Iris-setosa', 'Iris-setosa', 'Iris-virginica', 'Iris-setosa',\n",
       "       'Iris-virginica', 'Iris-versicolor', 'Iris-virginica',\n",
       "       'Iris-setosa', 'Iris-versicolor', 'Iris-virginica', 'Iris-setosa',\n",
       "       'Iris-virginica', 'Iris-setosa', 'Iris-versicolor', 'Iris-setosa',\n",
       "       'Iris-versicolor', 'Iris-versicolor', 'Iris-versicolor',\n",
       "       'Iris-setosa', 'Iris-virginica', 'Iris-setosa', 'Iris-virginica',\n",
       "       'Iris-setosa', 'Iris-versicolor', 'Iris-virginica',\n",
       "       'Iris-versicolor', 'Iris-setosa', 'Iris-setosa', 'Iris-setosa',\n",
       "       'Iris-versicolor', 'Iris-setosa', 'Iris-setosa', 'Iris-virginica',\n",
       "       'Iris-setosa', 'Iris-virginica', 'Iris-versicolor',\n",
       "       'Iris-virginica', 'Iris-setosa'], dtype=object)"
      ]
     },
     "execution_count": 226,
     "metadata": {},
     "output_type": "execute_result"
    }
   ],
   "source": [
    "y"
   ]
  },
  {
   "cell_type": "code",
   "execution_count": 227,
   "id": "8c56afe2",
   "metadata": {},
   "outputs": [
    {
     "data": {
      "text/plain": [
       "(150, 4)"
      ]
     },
     "execution_count": 227,
     "metadata": {},
     "output_type": "execute_result"
    }
   ],
   "source": [
    "X.shape\n"
   ]
  },
  {
   "cell_type": "code",
   "execution_count": 228,
   "id": "20a40624",
   "metadata": {},
   "outputs": [
    {
     "data": {
      "text/plain": [
       "(150,)"
      ]
     },
     "execution_count": 228,
     "metadata": {},
     "output_type": "execute_result"
    }
   ],
   "source": [
    "y.shape"
   ]
  },
  {
   "cell_type": "code",
   "execution_count": 229,
   "id": "e3150a22",
   "metadata": {},
   "outputs": [
    {
     "data": {
      "text/plain": [
       "(120, 4)"
      ]
     },
     "execution_count": 229,
     "metadata": {},
     "output_type": "execute_result"
    }
   ],
   "source": [
    "X_train = X[0: 120, :]\n",
    "X_train.shape"
   ]
  },
  {
   "cell_type": "code",
   "execution_count": 230,
   "id": "c1dd3f4d",
   "metadata": {},
   "outputs": [
    {
     "data": {
      "text/plain": [
       "(30, 4)"
      ]
     },
     "execution_count": 230,
     "metadata": {},
     "output_type": "execute_result"
    }
   ],
   "source": [
    "X_test = X[120:, :]\n",
    "X_test.shape"
   ]
  },
  {
   "cell_type": "code",
   "execution_count": 231,
   "id": "4c782a3a",
   "metadata": {},
   "outputs": [
    {
     "data": {
      "text/plain": [
       "(120,)"
      ]
     },
     "execution_count": 231,
     "metadata": {},
     "output_type": "execute_result"
    }
   ],
   "source": [
    "y_train = y[0: 120,]\n",
    "y_train.shape"
   ]
  },
  {
   "cell_type": "code",
   "execution_count": 232,
   "id": "ceed5f44",
   "metadata": {},
   "outputs": [
    {
     "data": {
      "text/plain": [
       "(30,)"
      ]
     },
     "execution_count": 232,
     "metadata": {},
     "output_type": "execute_result"
    }
   ],
   "source": [
    "y_test = y[120:, ]\n",
    "y_test.shape"
   ]
  },
  {
   "cell_type": "code",
   "execution_count": 233,
   "id": "b04d5bf0",
   "metadata": {},
   "outputs": [],
   "source": [
    "encoder = OneHotEncoder(sparse_output=False)\n",
    "y_train_oh = encoder.fit_transform(y_train.reshape(-1, 1))\n",
    "y_test_oh = encoder.transform(y_test.reshape(-1, 1))"
   ]
  },
  {
   "cell_type": "code",
   "execution_count": 234,
   "id": "71bbd716",
   "metadata": {},
   "outputs": [
    {
     "data": {
      "text/plain": [
       "(30, 3)"
      ]
     },
     "execution_count": 234,
     "metadata": {},
     "output_type": "execute_result"
    }
   ],
   "source": [
    "y_test_oh.shape"
   ]
  },
  {
   "cell_type": "code",
   "execution_count": 235,
   "id": "eff9cd81",
   "metadata": {},
   "outputs": [
    {
     "data": {
      "text/plain": [
       "(120, 3)"
      ]
     },
     "execution_count": 235,
     "metadata": {},
     "output_type": "execute_result"
    }
   ],
   "source": [
    "y_train_oh.shape"
   ]
  },
  {
   "cell_type": "code",
   "execution_count": 367,
   "id": "9b8a047d",
   "metadata": {},
   "outputs": [
    {
     "name": "stdout",
     "output_type": "stream",
     "text": [
      "(array(['Iris-setosa', 'Iris-versicolor', 'Iris-virginica'], dtype=object), array([37, 41, 42]))\n",
      "[array(['Iris-setosa', 'Iris-versicolor', 'Iris-virginica'], dtype=object)]\n",
      "[[1. 0. 0.]\n",
      " [0. 0. 1.]\n",
      " [0. 1. 0.]\n",
      " [0. 1. 0.]\n",
      " [0. 0. 1.]]\n"
     ]
    }
   ],
   "source": [
    "print(np.unique(y_train, return_counts=True))\n",
    "print(encoder.categories_)\n",
    "print(y_train_oh[:5])"
   ]
  },
  {
   "cell_type": "code",
   "execution_count": 280,
   "id": "9cbf90a8",
   "metadata": {},
   "outputs": [],
   "source": [
    "def init_weights():\n",
    "    # Xavier/He init \n",
    "    input, out = 4, 4\n",
    "    limit = np.sqrt(6 / (input + out))\n",
    "    W1 = np.random.uniform(-limit, limit, size=(4, 4))\n",
    "    b1 = np.expand_dims(np.random.randn(4,), axis=1)\n",
    "    \n",
    "    input, out = 4, 3\n",
    "    limit = np.sqrt(6 / (input + out))\n",
    "    W2 = np.random.uniform(-limit, limit, size=(3, 4)) \n",
    "    b2 = np.expand_dims(np.random.randn(3,), axis=1)\n",
    "    return W1, b1, W2, b2\n"
   ]
  },
  {
   "cell_type": "code",
   "execution_count": 289,
   "id": "db1d6666",
   "metadata": {},
   "outputs": [
    {
     "data": {
      "text/plain": [
       "array([[-0.77651004,  0.05430781,  0.0703821 ,  0.23803557],\n",
       "       [ 0.39160168,  0.82419998,  0.02823303, -0.30664838],\n",
       "       [ 0.51127749, -0.39693018, -0.1057046 , -0.73013497],\n",
       "       [-0.82211663,  0.80133056,  0.58193464,  0.33943728]])"
      ]
     },
     "execution_count": 289,
     "metadata": {},
     "output_type": "execute_result"
    }
   ],
   "source": [
    "W1, b1, W2, b2 = init_weights()\n",
    "W1"
   ]
  },
  {
   "cell_type": "code",
   "execution_count": 290,
   "id": "b0bee4bc",
   "metadata": {},
   "outputs": [
    {
     "data": {
      "text/plain": [
       "(4, 1)"
      ]
     },
     "execution_count": 290,
     "metadata": {},
     "output_type": "execute_result"
    }
   ],
   "source": [
    "b1.shape"
   ]
  },
  {
   "cell_type": "code",
   "execution_count": 291,
   "id": "67fb975c",
   "metadata": {},
   "outputs": [],
   "source": [
    "def relu(X):\n",
    "    return np.maximum(0, X)"
   ]
  },
  {
   "cell_type": "code",
   "execution_count": 292,
   "id": "f1475251",
   "metadata": {},
   "outputs": [],
   "source": [
    "def softmax(X):\n",
    "    X = np.array(X, dtype=float)\n",
    "    exp_X = np.exp(X - np.max(X, axis=0, keepdims=True))\n",
    "    return exp_X / np.sum(exp_X, axis=0, keepdims=True)"
   ]
  },
  {
   "cell_type": "code",
   "execution_count": 293,
   "id": "7f939232",
   "metadata": {},
   "outputs": [],
   "source": [
    "def deriv_relu(X):\n",
    "    '''\n",
    "    If X > 1 => d relu/d x = 1\n",
    "    else 0\n",
    "    '''\n",
    "    #will be converted from boolean to number\n",
    "    return X > 0"
   ]
  },
  {
   "cell_type": "code",
   "execution_count": 294,
   "id": "c019781e",
   "metadata": {},
   "outputs": [
    {
     "data": {
      "text/plain": [
       "array([0.04201007, 0.1141952 , 0.84379473])"
      ]
     },
     "execution_count": 294,
     "metadata": {},
     "output_type": "execute_result"
    }
   ],
   "source": [
    "X = [1, 2, 4]\n",
    "softmax(X)"
   ]
  },
  {
   "cell_type": "code",
   "execution_count": 295,
   "id": "f423c274",
   "metadata": {},
   "outputs": [
    {
     "name": "stdout",
     "output_type": "stream",
     "text": [
      "[1 0 3 4]\n"
     ]
    }
   ],
   "source": [
    "x = [1, -2, 3, 4]\n",
    "print(relu(x))"
   ]
  },
  {
   "cell_type": "code",
   "execution_count": 296,
   "id": "4835ff4d",
   "metadata": {},
   "outputs": [],
   "source": [
    "def foward_pass(W1, b1, W2, b2, X_train):\n",
    "    Z1 = W1.dot(X_train.T) + b1\n",
    "    A1 = relu(Z1)\n",
    "\n",
    "    Z2 = W2.dot(A1) + b2\n",
    "    A2 = softmax(Z2)\n",
    "\n",
    "    return Z1, A1, Z2, A2"
   ]
  },
  {
   "cell_type": "code",
   "execution_count": 297,
   "id": "303d3458",
   "metadata": {},
   "outputs": [],
   "source": [
    "'''\n",
    "m = batch size \n",
    "\n",
    "! MUST DIVIDE BY BATCH SIZE DUE TO BATCH LEARNING !\n",
    "'''\n",
    "\n",
    "def backward(Z1, A1, Z2, A2, W2, X, Y):\n",
    "    m = X.shape[0]\n",
    "    dZ2 = A2 - Y.T\n",
    "    dW2 = dZ2.dot(A1.T) / m\n",
    "    db2 = np.sum(dZ2, axis=1, keepdims=True) / m\n",
    "\n",
    "    dZ1 = deriv_relu(Z1) * W2.T.dot(dZ2)\n",
    "    dW1 = dZ1.dot(X) / m\n",
    "    db1 = np.sum(dZ1, axis=1, keepdims=True) / m\n",
    "\n",
    "    return dW1, db1, dW2, db2"
   ]
  },
  {
   "cell_type": "code",
   "execution_count": 298,
   "id": "49ff747c",
   "metadata": {},
   "outputs": [],
   "source": [
    "def gradient_descent(W1, b1, W2, b2, dW1, db1, dW2, db2, alpha):\n",
    "    W2 = W2 - alpha * dW2\n",
    "    b2 = b2 - alpha * db2\n",
    "\n",
    "    W1 = W1 - alpha * dW1\n",
    "    b1 = b1 - alpha * db1\n",
    "\n",
    "    return W1, b1, W2, b2"
   ]
  },
  {
   "cell_type": "code",
   "execution_count": 299,
   "id": "2749f00a",
   "metadata": {},
   "outputs": [],
   "source": [
    "'''\n",
    "Used for visualization\n",
    "'''\n",
    "def get_predictions(A2):\n",
    "    return np.argmax(A2, 0)\n",
    "\n",
    "def get_accuracy(predictions, Y):\n",
    "    predictions = np.expand_dims(predictions, axis=1)\n",
    "    return np.sum(predictions == Y) / Y.size\n"
   ]
  },
  {
   "cell_type": "code",
   "execution_count": 300,
   "id": "b69382bb",
   "metadata": {},
   "outputs": [],
   "source": [
    "'''\n",
    "To be called with X_train, y_train_oh\n",
    "'''\n",
    "\n",
    "\n",
    "def fit(X, Y, epochs, alpha):\n",
    "    W1, b1, W2, b2 = init_weights()\n",
    "\n",
    "    for i in range(epochs):\n",
    "        Z1, A1, Z2, A2 = foward_pass(W1, b1, W2, b2, X)\n",
    "        dW1, db1, dW2, db2 = backward(Z1, A1, Z2, A2, W2, X, Y)\n",
    "        W1, b1, W2, b2 = gradient_descent(W1, b1, W2, b2, dW1, db1, dW2, db2, alpha)\n",
    "\n",
    "        if i % 10 == 0:\n",
    "            print('Iteration: ', i)\n",
    "            print('Accuracy: ', get_accuracy(get_predictions(A2), Y))\n",
    "\n",
    "    return W1, b1, W2, b2"
   ]
  },
  {
   "cell_type": "code",
   "execution_count": 301,
   "id": "8dc12f80",
   "metadata": {},
   "outputs": [
    {
     "data": {
      "text/plain": [
       "array([[-1.20898997,  0.10496967, -1.35834557, -1.49513612],\n",
       "       [ 0.52699563, -0.3530798 ,  1.00650234,  0.72471664],\n",
       "       [-0.34099717, -0.12405506,  0.37203095,  0.33297791],\n",
       "       [ 0.27899768, -0.12405506,  0.42971017,  0.20239834],\n",
       "       [ 2.26298122,  1.7081428 ,  1.64097373,  1.24703493],\n",
       "       [ 0.6509946 , -0.81112926,  0.83346469,  0.85529621],\n",
       "       [-0.2169982 ,  3.0822912 , -1.35834557, -1.1033974 ],\n",
       "       [ 1.02299151,  0.10496967,  0.48738939,  0.33297791],\n",
       "       [ 0.89899254, -0.12405506,  0.31435173,  0.20239834],\n",
       "       [ 1.02299151,  0.56301914,  1.06418156,  1.63877366],\n",
       "       [-0.71299408,  1.47911807, -1.35834557, -1.36455655],\n",
       "       [-0.58899511,  0.79204387, -1.24298713, -1.36455655],\n",
       "       [ 1.27098945,  0.10496967,  0.71810625,  1.37761451],\n",
       "       [ 0.27899768, -0.58210453,  0.48738939, -0.05876081],\n",
       "       [ 0.27899768, -0.3530798 ,  0.48738939,  0.20239834],\n",
       "       [-0.96099202,  1.0210686 , -1.41602478, -1.23397698],\n",
       "       [-1.20898997,  0.10496967, -1.35834557, -1.49513612],\n",
       "       [-0.2169982 ,  1.7081428 , -1.24298713, -1.23397698],\n",
       "       [-1.33298894, -0.12405506, -1.41602478, -1.23397698],\n",
       "       [-0.96099202,  1.47911807, -1.35834557, -1.1033974 ],\n",
       "       [-0.96099202, -1.26917873, -0.49315731, -0.18934038],\n",
       "       [-1.20898997, -1.26917873,  0.37203095,  0.59413706],\n",
       "       [-0.09299923, -1.040154  ,  0.08363486, -0.05876081],\n",
       "       [ 0.03099974, -0.12405506,  0.71810625,  0.72471664],\n",
       "       [ 0.40299666,  0.79204387,  0.89114391,  1.37761451],\n",
       "       [ 0.77499357, -0.12405506,  1.12186078,  1.24703493],\n",
       "       [-1.33298894,  0.10496967, -1.30066635, -1.36455655],\n",
       "       [-1.08499099, -0.12405506, -1.30066635, -1.36455655],\n",
       "       [ 0.77499357, -0.58210453,  0.42971017,  0.33297791],\n",
       "       [-0.58899511,  1.93716754, -1.473704  , -1.1033974 ],\n",
       "       [-0.2169982 , -0.58210453,  0.37203095,  0.07181877],\n",
       "       [ 0.15499871, -0.12405506,  0.5450686 ,  0.72471664],\n",
       "       [ 0.15499871, -0.81112926,  0.71810625,  0.46355749],\n",
       "       [-1.08499099, -1.7272282 , -0.32011966, -0.31991996],\n",
       "       [-0.34099717, -1.26917873,  0.02595565, -0.18934038],\n",
       "       [ 0.6509946 , -0.3530798 ,  0.25667252,  0.07181877],\n",
       "       [ 0.27899768, -1.040154  ,  1.00650234,  0.20239834],\n",
       "       [-1.08499099,  0.56301914, -1.41602478, -1.36455655],\n",
       "       [ 0.40299666, -0.3530798 ,  0.25667252,  0.07181877],\n",
       "       [-0.58899511, -0.12405506,  0.37203095,  0.33297791],\n",
       "       [-0.09299923, -0.81112926,  0.71810625,  0.85529621],\n",
       "       [ 0.77499357, -0.12405506,  0.94882312,  0.72471664],\n",
       "       [-1.08499099, -2.4143024 , -0.20476122, -0.31991996],\n",
       "       [-0.2169982 , -1.040154  , -0.20476122, -0.31991996],\n",
       "       [-0.46499614, -1.26917873,  0.08363486,  0.07181877],\n",
       "       [ 1.64298636,  1.25009334,  1.29489843,  1.63877366],\n",
       "       [ 0.27899768, -0.12405506,  0.60274782,  0.72471664],\n",
       "       [-0.2169982 , -0.12405506,  0.1989933 , -0.05876081],\n",
       "       [ 0.6509946 , -0.58210453,  1.00650234,  1.11645536],\n",
       "       [ 0.52699563,  0.79204387,  1.00650234,  1.50819408],\n",
       "       [-1.82898482, -0.12405506, -1.473704  , -1.36455655],\n",
       "       [-1.33298894,  0.79204387, -1.1276287 , -1.36455655],\n",
       "       [ 0.40299666, -1.95625293,  0.37203095,  0.33297791],\n",
       "       [ 0.15499871, -1.95625293,  0.66042704,  0.33297791],\n",
       "       [-1.45698791,  0.3339944 , -1.30066635, -1.36455655],\n",
       "       [-0.96099202,  1.7081428 , -1.35834557, -1.23397698],\n",
       "       [-1.20898997, -1.49820346, -0.32011966, -0.31991996],\n",
       "       [-0.2169982 , -0.3530798 ,  0.1989933 ,  0.07181877],\n",
       "       [-0.83699305, -0.81112926,  0.02595565,  0.20239834],\n",
       "       [-0.09299923, -0.81112926,  0.14131408, -0.31991996],\n",
       "       [-0.58899511,  1.93716754, -1.24298713, -1.1033974 ],\n",
       "       [ 2.26298122, -0.12405506,  1.29489843,  1.37761451],\n",
       "       [ 0.52699563,  0.56301914,  0.48738939,  0.46355749],\n",
       "       [-0.2169982 , -0.58210453,  0.14131408,  0.07181877],\n",
       "       [ 1.8909843 , -0.58210453,  1.29489843,  0.85529621],\n",
       "       [ 0.6509946 ,  0.10496967,  0.94882312,  0.72471664],\n",
       "       [ 1.02299151,  0.10496967,  0.31435173,  0.20239834],\n",
       "       [ 1.02299151, -1.26917873,  1.12186078,  0.72471664],\n",
       "       [ 0.89899254, -0.3530798 ,  0.42971017,  0.07181877],\n",
       "       [-0.58899511,  0.79204387, -1.35834557, -1.1033974 ],\n",
       "       [-1.33298894, -0.12405506, -1.41602478, -1.49513612],\n",
       "       [-1.08499099,  0.3339944 , -1.53138322, -1.36455655],\n",
       "       [-0.83699305,  0.79204387, -1.41602478, -1.36455655],\n",
       "       [-1.82898482,  0.3339944 , -1.473704  , -1.36455655],\n",
       "       [-0.09299923, -0.81112926,  0.02595565, -0.05876081],\n",
       "       [ 0.52699563,  0.56301914,  1.23721921,  1.63877366],\n",
       "       [ 1.02299151, -0.12405506,  0.77578547,  1.37761451],\n",
       "       [ 0.6509946 ,  0.3339944 ,  0.37203095,  0.33297791],\n",
       "       [ 1.27098945,  0.3339944 ,  1.06418156,  1.37761451],\n",
       "       [ 1.39498842,  0.3339944 ,  0.48738939,  0.20239834],\n",
       "       [ 1.14699048, -0.58210453,  0.5450686 ,  0.20239834],\n",
       "       [-1.70498585, -1.7272282 , -1.473704  , -1.23397698],\n",
       "       [ 2.51097916,  1.7081428 ,  1.46793608,  0.98587579],\n",
       "       [ 0.15499871, -0.3530798 ,  0.37203095,  0.33297791],\n",
       "       [ 0.40299666, -0.58210453,  0.5450686 ,  0.72471664],\n",
       "       [-1.08499099,  0.79204387, -1.30066635, -1.1033974 ],\n",
       "       [-0.09299923, -0.81112926,  0.71810625,  0.85529621],\n",
       "       [ 1.14699048, -0.12405506,  0.94882312,  1.11645536],\n",
       "       [ 1.02299151,  0.56301914,  1.06418156,  1.11645536],\n",
       "       [-1.45698791,  0.3339944 , -1.473704  , -1.36455655],\n",
       "       [ 1.02299151, -0.12405506,  0.66042704,  0.59413706],\n",
       "       [-0.96099202,  1.7081428 , -1.30066635, -1.36455655],\n",
       "       [ 1.64298636, -0.12405506,  1.12186078,  0.46355749],\n",
       "       [ 2.26298122, -1.040154  ,  1.75633216,  1.37761451],\n",
       "       [-0.46499614, -1.040154  ,  0.31435173, -0.05876081],\n",
       "       [ 0.15499871,  0.79204387,  0.37203095,  0.46355749],\n",
       "       [ 1.14699048,  0.3339944 ,  1.17953999,  1.37761451],\n",
       "       [-0.46499614,  1.0210686 , -1.473704  , -1.36455655],\n",
       "       [-0.34099717, -0.58210453,  0.60274782,  0.98587579],\n",
       "       [ 0.03099974, -0.12405506,  0.1989933 ,  0.33297791],\n",
       "       [-1.58098688,  1.25009334, -1.64674165, -1.36455655],\n",
       "       [ 1.02299151,  0.10496967,  1.00650234,  1.50819408],\n",
       "       [-0.2169982 , -1.26917873,  0.66042704,  0.98587579],\n",
       "       [-0.46499614,  2.62424174, -1.41602478, -1.36455655],\n",
       "       [-1.33298894,  0.79204387, -1.30066635, -1.36455655],\n",
       "       [ 0.27899768, -0.58210453,  0.08363486,  0.07181877],\n",
       "       [ 0.52699563, -1.26917873,  0.60274782,  0.33297791],\n",
       "       [-1.58098688,  0.79204387, -1.41602478, -1.23397698],\n",
       "       [-0.83699305,  1.0210686 , -1.35834557, -1.36455655],\n",
       "       [ 0.6509946 , -0.58210453,  1.00650234,  1.24703493],\n",
       "       [ 1.51898739, -0.12405506,  1.17953999,  1.11645536],\n",
       "       [ 0.52699563, -1.26917873,  0.66042704,  0.85529621],\n",
       "       [-1.08499099,  1.25009334, -1.41602478, -1.36455655],\n",
       "       [-0.83699305,  2.395217  , -1.35834557, -1.49513612],\n",
       "       [ 0.6509946 ,  0.3339944 ,  0.83346469,  1.37761451],\n",
       "       [-1.20898997,  0.10496967, -1.35834557, -1.49513612],\n",
       "       [ 2.26298122, -0.58210453,  1.64097373,  0.98587579],\n",
       "       [-0.46499614, -1.49820346, -0.03172357, -0.18934038],\n",
       "       [-0.09299923, -0.58210453,  0.71810625,  1.50819408],\n",
       "       [-0.58899511,  1.47911807, -1.35834557, -1.36455655]])"
      ]
     },
     "execution_count": 301,
     "metadata": {},
     "output_type": "execute_result"
    }
   ],
   "source": [
    "X_train"
   ]
  },
  {
   "cell_type": "code",
   "execution_count": 302,
   "id": "56bafa1a",
   "metadata": {},
   "outputs": [
    {
     "data": {
      "text/plain": [
       "array([[ 0.15499871, -1.95625293,  0.08363486, -0.31991996],\n",
       "       [ 1.64298636,  0.3339944 ,  1.23721921,  0.72471664],\n",
       "       [-1.08499099,  0.79204387, -1.35834557, -1.36455655],\n",
       "       [ 1.76698533, -0.3530798 ,  1.41025686,  0.72471664],\n",
       "       [-0.96099202,  1.0210686 , -1.41602478, -1.36455655],\n",
       "       [ 0.52699563, -1.7272282 ,  0.31435173,  0.07181877],\n",
       "       [-1.82898482, -0.3530798 , -1.41602478, -1.36455655],\n",
       "       [ 0.03099974,  0.3339944 ,  0.5450686 ,  0.72471664],\n",
       "       [-0.34099717, -0.12405506,  0.14131408,  0.07181877],\n",
       "       [-0.34099717, -0.3530798 , -0.147082  ,  0.07181877],\n",
       "       [-0.96099202,  1.7081428 , -1.1276287 , -1.1033974 ],\n",
       "       [ 1.27098945,  0.10496967,  0.89114391,  1.11645536],\n",
       "       [-1.08499099,  1.0210686 , -1.473704  , -1.23397698],\n",
       "       [ 0.52699563, -0.81112926,  0.60274782,  0.72471664],\n",
       "       [-0.96099202,  0.56301914, -1.24298713, -0.97281783],\n",
       "       [ 1.27098945,  0.10496967,  0.60274782,  0.33297791],\n",
       "       [ 0.77499357,  0.3339944 ,  0.71810625,  0.98587579],\n",
       "       [-0.46499614, -1.49820346, -0.08940279, -0.31991996],\n",
       "       [-0.96099202,  0.79204387, -1.35834557, -1.36455655],\n",
       "       [-0.09299923,  2.16619227, -1.53138322, -1.36455655],\n",
       "       [-1.58098688,  0.3339944 , -1.41602478, -1.36455655],\n",
       "       [-0.34099717, -0.81112926,  0.1989933 ,  0.07181877],\n",
       "       [-1.95298379, -0.12405506, -1.58906243, -1.49513612],\n",
       "       [-1.08499099,  1.0210686 , -1.30066635, -0.84223825],\n",
       "       [ 0.77499357, -0.12405506,  0.77578547,  0.98587579],\n",
       "       [-1.58098688,  0.10496967, -1.35834557, -1.36455655],\n",
       "       [ 2.13898225, -0.12405506,  1.58329451,  1.11645536],\n",
       "       [-0.46499614, -1.7272282 ,  0.08363486,  0.07181877],\n",
       "       [ 0.52699563, -0.58210453,  0.71810625,  0.33297791],\n",
       "       [-1.20898997, -0.12405506, -1.41602478, -1.36455655]])"
      ]
     },
     "execution_count": 302,
     "metadata": {},
     "output_type": "execute_result"
    }
   ],
   "source": [
    "X_test"
   ]
  },
  {
   "cell_type": "code",
   "execution_count": 303,
   "id": "8a5c730e",
   "metadata": {},
   "outputs": [],
   "source": [
    "'''\n",
    "STANDARD SCALING\n",
    "\n",
    "X_test must be scaled with the mean and std of X_train to prevent \"data leaks\"\n",
    "'''\n",
    "X_train = np.array(X_train, dtype=float)\n",
    "X_test = np.array(X_test, dtype=float)\n",
    "\n",
    "mean = X_train.mean(axis=0)\n",
    "std = X_train.std(axis=0)\n",
    "\n",
    "X_train = (X_train - mean) / std\n",
    "\n",
    "X_test = (X_test - mean) / std\n"
   ]
  },
  {
   "cell_type": "code",
   "execution_count": 304,
   "id": "ac20d0da",
   "metadata": {},
   "outputs": [
    {
     "name": "stdout",
     "output_type": "stream",
     "text": [
      "False False\n",
      "False False\n"
     ]
    }
   ],
   "source": [
    "print(np.isnan(X_train).any(), np.isnan(X_test).any())\n",
    "print(np.isinf(X_train).any(), np.isinf(X_test).any())"
   ]
  },
  {
   "cell_type": "code",
   "execution_count": 363,
   "id": "e9800d17",
   "metadata": {},
   "outputs": [
    {
     "name": "stdout",
     "output_type": "stream",
     "text": [
      "Iteration:  0\n",
      "Accuracy:  0.6666666666666666\n",
      "Iteration:  10\n",
      "Accuracy:  0.6666666666666666\n",
      "Iteration:  20\n",
      "Accuracy:  0.6666666666666666\n",
      "Iteration:  30\n",
      "Accuracy:  0.6666666666666666\n",
      "Iteration:  40\n",
      "Accuracy:  0.6666666666666666\n",
      "Iteration:  50\n",
      "Accuracy:  0.6666666666666666\n",
      "Iteration:  60\n",
      "Accuracy:  0.6666666666666666\n",
      "Iteration:  70\n",
      "Accuracy:  0.6666666666666666\n",
      "Iteration:  80\n",
      "Accuracy:  0.6666666666666666\n",
      "Iteration:  90\n",
      "Accuracy:  0.6666666666666666\n",
      "Iteration:  100\n",
      "Accuracy:  0.6666666666666666\n",
      "Iteration:  110\n",
      "Accuracy:  0.6666666666666666\n",
      "Iteration:  120\n",
      "Accuracy:  0.6666666666666666\n",
      "Iteration:  130\n",
      "Accuracy:  0.6666666666666666\n",
      "Iteration:  140\n",
      "Accuracy:  0.6666666666666666\n",
      "Iteration:  150\n",
      "Accuracy:  0.6666666666666666\n",
      "Iteration:  160\n",
      "Accuracy:  0.6666666666666666\n",
      "Iteration:  170\n",
      "Accuracy:  0.6666666666666666\n",
      "Iteration:  180\n",
      "Accuracy:  0.6666666666666666\n",
      "Iteration:  190\n",
      "Accuracy:  0.6666666666666666\n",
      "Iteration:  200\n",
      "Accuracy:  0.6666666666666666\n",
      "Iteration:  210\n",
      "Accuracy:  0.6666666666666666\n",
      "Iteration:  220\n",
      "Accuracy:  0.6666666666666666\n",
      "Iteration:  230\n",
      "Accuracy:  0.6666666666666666\n",
      "Iteration:  240\n",
      "Accuracy:  0.6666666666666666\n",
      "Iteration:  250\n",
      "Accuracy:  0.6666666666666666\n",
      "Iteration:  260\n",
      "Accuracy:  0.6666666666666666\n",
      "Iteration:  270\n",
      "Accuracy:  0.6666666666666666\n",
      "Iteration:  280\n",
      "Accuracy:  0.6666666666666666\n",
      "Iteration:  290\n",
      "Accuracy:  0.6666666666666666\n",
      "Iteration:  300\n",
      "Accuracy:  0.6666666666666666\n",
      "Iteration:  310\n",
      "Accuracy:  0.6666666666666666\n",
      "Iteration:  320\n",
      "Accuracy:  0.6666666666666666\n",
      "Iteration:  330\n",
      "Accuracy:  0.6666666666666666\n",
      "Iteration:  340\n",
      "Accuracy:  0.6666666666666666\n",
      "Iteration:  350\n",
      "Accuracy:  0.6666666666666666\n",
      "Iteration:  360\n",
      "Accuracy:  0.6666666666666666\n",
      "Iteration:  370\n",
      "Accuracy:  0.6666666666666666\n",
      "Iteration:  380\n",
      "Accuracy:  0.6666666666666666\n",
      "Iteration:  390\n",
      "Accuracy:  0.6666666666666666\n",
      "Iteration:  400\n",
      "Accuracy:  0.6666666666666666\n",
      "Iteration:  410\n",
      "Accuracy:  0.6666666666666666\n",
      "Iteration:  420\n",
      "Accuracy:  0.6666666666666666\n",
      "Iteration:  430\n",
      "Accuracy:  0.6666666666666666\n",
      "Iteration:  440\n",
      "Accuracy:  0.6666666666666666\n",
      "Iteration:  450\n",
      "Accuracy:  0.6666666666666666\n",
      "Iteration:  460\n",
      "Accuracy:  0.6666666666666666\n",
      "Iteration:  470\n",
      "Accuracy:  0.6666666666666666\n",
      "Iteration:  480\n",
      "Accuracy:  0.6666666666666666\n",
      "Iteration:  490\n",
      "Accuracy:  0.6666666666666666\n"
     ]
    }
   ],
   "source": [
    "W1, b1, W2, b2 = fit(X_train, y_train_oh, 500, 0.001)"
   ]
  },
  {
   "cell_type": "code",
   "execution_count": 254,
   "id": "44fcdf6b",
   "metadata": {},
   "outputs": [],
   "source": [
    "# print(f\"Layer 1 weights \\n\"\n",
    "#       f\"{W1}\\n\"\n",
    "#       f\"\"\n",
    "#       f\"\"\n",
    "#       f\"Layer 1 biases \\n\"\n",
    "#       f\"{b1} \\n\"\n",
    "#       f\"\"\n",
    "#       f\"\"\n",
    "#       f\"Layer 2 weights \\n\"\n",
    "#       f\"{W2} \\n\"\n",
    "#       f\"\"\n",
    "#       f\"\"\n",
    "#       f\"Layer 2 biases \\n\"\n",
    "#       f\"{b2} \\n\"\n",
    "#       )"
   ]
  },
  {
   "cell_type": "code",
   "execution_count": 364,
   "id": "b8c2650c",
   "metadata": {},
   "outputs": [],
   "source": [
    "'''\n",
    "To be called with X_test, y_test_oh and learned weights + biases\n",
    "'''\n",
    "\n",
    "def predict(W1, b1, W2, b2, X):\n",
    "    Z1 = W1.dot(X.T) + b1\n",
    "    A1 = relu(Z1)\n",
    "\n",
    "    Z2 = W2.dot(A1) + b2\n",
    "    A2 = softmax(Z2)\n",
    "\n",
    "    return A2"
   ]
  },
  {
   "cell_type": "code",
   "execution_count": 366,
   "id": "9e0dce55",
   "metadata": {},
   "outputs": [
    {
     "data": {
      "text/plain": [
       "np.float64(13.0)"
      ]
     },
     "execution_count": 366,
     "metadata": {},
     "output_type": "execute_result"
    }
   ],
   "source": [
    "y_pred = get_predictions(predict(W1, b1, W2, b2, X_test))\n",
    "y_true = np.argmax(y_test_oh, axis=1)\n",
    "test_acc = get_accuracy(y_pred, y_true)\n",
    "test_acc"
   ]
  },
  {
   "cell_type": "code",
   "execution_count": 185,
   "id": "97aa2d43",
   "metadata": {},
   "outputs": [
    {
     "name": "stdout",
     "output_type": "stream",
     "text": [
      "(array([0, 1]), array([28,  2]))\n"
     ]
    }
   ],
   "source": [
    "print(np.unique(y_pred, return_counts=True))"
   ]
  },
  {
   "cell_type": "code",
   "execution_count": null,
   "id": "db1db236",
   "metadata": {},
   "outputs": [],
   "source": []
  }
 ],
 "metadata": {
  "kernelspec": {
   "display_name": "pyml",
   "language": "python",
   "name": "python3"
  },
  "language_info": {
   "codemirror_mode": {
    "name": "ipython",
    "version": 3
   },
   "file_extension": ".py",
   "mimetype": "text/x-python",
   "name": "python",
   "nbconvert_exporter": "python",
   "pygments_lexer": "ipython3",
   "version": "3.9.21"
  }
 },
 "nbformat": 4,
 "nbformat_minor": 5
}
