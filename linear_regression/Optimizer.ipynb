{
 "cells": [
  {
   "cell_type": "code",
   "execution_count": 2,
   "metadata": {},
   "outputs": [
    {
     "ename": "ModuleNotFoundError",
     "evalue": "No module named 'Loss'",
     "output_type": "error",
     "traceback": [
      "\u001b[1;31m---------------------------------------------------------------------------\u001b[0m",
      "\u001b[1;31mModuleNotFoundError\u001b[0m                       Traceback (most recent call last)",
      "Cell \u001b[1;32mIn[2], line 2\u001b[0m\n\u001b[0;32m      1\u001b[0m \u001b[38;5;28;01mimport\u001b[39;00m\u001b[38;5;250m \u001b[39m\u001b[38;5;21;01mnumpy\u001b[39;00m\u001b[38;5;250m \u001b[39m\u001b[38;5;28;01mas\u001b[39;00m\u001b[38;5;250m \u001b[39m\u001b[38;5;21;01mnp\u001b[39;00m\n\u001b[1;32m----> 2\u001b[0m \u001b[38;5;28;01mimport\u001b[39;00m\u001b[38;5;250m \u001b[39m\u001b[38;5;21;01mLoss\u001b[39;00m\u001b[38;5;21;01m.\u001b[39;00m\u001b[38;5;21;01mmse\u001b[39;00m\n",
      "\u001b[1;31mModuleNotFoundError\u001b[0m: No module named 'Loss'"
     ]
    }
   ],
   "source": [
    "import numpy as np\n",
    "import Loss.mse"
   ]
  },
  {
   "cell_type": "code",
   "execution_count": null,
   "metadata": {},
   "outputs": [],
   "source": [
    "class Optimizer:\n",
    "    def __init__(self, learn_rate, n_iter):\n",
    "        self.learn_rate = learn_rate\n",
    "        self.n_iter = n_iter\n",
    "\n",
    "    def compute_cost(self, predictions, actuals):\n",
    "        cost = \n",
    "    # to be called for each training example\n",
    "    def compute_gradients(self, prediction, actual):\n",
    "        # MSE with 1/2 as coefficient\n",
    "        dT = (prediction - actual) * \n",
    "    \n",
    "    def sgd(self, dT, db, weights, bias, predictions, actuals):\n",
    "        new_weights = []\n",
    "        for weight, prediction, actual in zip(weights, predictions, actuals):\n",
    "            new_weight = weight - self.learn_rate * dT\n",
    "            new_bias = prediction - actual\n",
    "            new_weights.append(new_weight)\n",
    "        \n",
    "        return new_weights, new_bias\n",
    "        "
   ]
  }
 ],
 "metadata": {
  "kernelspec": {
   "display_name": "pyml",
   "language": "python",
   "name": "python3"
  },
  "language_info": {
   "codemirror_mode": {
    "name": "ipython",
    "version": 3
   },
   "file_extension": ".py",
   "mimetype": "text/x-python",
   "name": "python",
   "nbconvert_exporter": "python",
   "pygments_lexer": "ipython3",
   "version": "3.9.21"
  }
 },
 "nbformat": 4,
 "nbformat_minor": 2
}
