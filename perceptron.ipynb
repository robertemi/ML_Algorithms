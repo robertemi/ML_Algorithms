{
 "cells": [
  {
   "cell_type": "code",
   "execution_count": 81,
   "id": "2af6f926",
   "metadata": {},
   "outputs": [],
   "source": [
    "import numpy as np\n",
    "import random\n",
    "\n",
    "# Generate random data as a list first\n",
    "data_list = [random.uniform(-1000, 1000) for _ in range(20)]\n",
    "\n",
    "labels_list = [1 if i > 0 else 0 for i in data_list]\n",
    "\n",
    "# convert to numpy arrays with proper shapes\n",
    "X = np.array(data_list).reshape(1, -1)  \n",
    "y = np.array(labels_list)"
   ]
  },
  {
   "cell_type": "code",
   "execution_count": 82,
   "id": "a59309ef-549f-423c-906d-3cdcafb38ab8",
   "metadata": {},
   "outputs": [],
   "source": [
    "class Perceptron:\n",
    "    # alpha = learning rate\n",
    "    def __init__(self, alpha, n_iter):\n",
    "        self.alpha = 0.1\n",
    "        self.n_iter = 10\n",
    "\n",
    "    def fit(self, X, y):\n",
    "        # number of weights = number of inputs\n",
    "        # in this case 20\n",
    "        weights_random_generation = [random.random() for _ in range(20)]\n",
    "        self.w_ = weights_random_generation\n",
    "        self.b_ = 0.\n",
    "        self.errors_ = []\n",
    "\n",
    "        for _ in range(self.n_iter):\n",
    "            error = 0\n",
    "            # target_y = actual label\n",
    "            for xi, target_y in zip(X, y):\n",
    "                update_value = self.alpha * (target_y - self.predict(xi))\n",
    "                self.w_ += update_value * xi\n",
    "                self.b_ += update_value\n",
    "\n",
    "                if update_value != 0.0:\n",
    "                    error += update_value\n",
    "            self.errors_.append(error)\n",
    "        return self            \n",
    "\n",
    "    def weighted_sum(self, X):\n",
    "        return np.dot(X, self.w_) + self.b_\n",
    "    # x = new point i want to classify\n",
    "    def predict(self, X):\n",
    "        return np.where(self.weighted_sum(X) >= 0.0, 1, 0)\n",
    "\n",
    "\n",
    "    "
   ]
  },
  {
   "cell_type": "code",
   "execution_count": 83,
   "id": "e7ec06c1",
   "metadata": {},
   "outputs": [
    {
     "data": {
      "text/plain": [
       "<__main__.Perceptron at 0x1b96bed2d60>"
      ]
     },
     "execution_count": 83,
     "metadata": {},
     "output_type": "execute_result"
    }
   ],
   "source": [
    "p = Perceptron(0.1, 10)\n",
    "p.fit(X, y)"
   ]
  },
  {
   "cell_type": "code",
   "execution_count": 100,
   "id": "f520e61e",
   "metadata": {},
   "outputs": [
    {
     "name": "stdout",
     "output_type": "stream",
     "text": [
      "[-0.63862059  4.17083006  5.69614554 -1.87793808 -2.12823752  1.00354144\n",
      " -8.91659217  3.09597912  3.64016467  9.75876051 -5.32288367 -9.75731594\n",
      "  0.69955683 -6.02947784  8.65192581 -6.00229958  4.63183846  8.09990452\n",
      " -2.11514474  2.3675852 ]\n",
      "Prediction: [array(1), array(1), array(1), array(1), array(1), array(1), array(1), array(1), array(1), array(1), array(1), array(1), array(1), array(1), array(1), array(1), array(1), array(1), array(1), array(1)]\n"
     ]
    }
   ],
   "source": [
    "# Example with dummy data (20 features)\n",
    "single_sample = np.random.uniform(-10, 10, (20,))  # Generate a random sample with 20 features\n",
    "print(single_sample)\n",
    "predictions = []\n",
    "for _ in range(len(single_sample)):\n",
    "    predictions.append(p.predict(single_sample))\n",
    "print(\"Prediction:\", predictions)"
   ]
  },
  {
   "cell_type": "code",
   "execution_count": 101,
   "id": "d712f982",
   "metadata": {},
   "outputs": [
    {
     "data": {
      "text/plain": [
       "'c:\\\\Chestii pt mine\\\\Info\\\\ML\\\\ML_with_PyTorch_and_SciKit_learn\\\\perceptron'"
      ]
     },
     "execution_count": 101,
     "metadata": {},
     "output_type": "execute_result"
    }
   ],
   "source": [
    "pwd"
   ]
  }
 ],
 "metadata": {
  "kernelspec": {
   "display_name": "pyml",
   "language": "python",
   "name": "python3"
  },
  "language_info": {
   "codemirror_mode": {
    "name": "ipython",
    "version": 3
   },
   "file_extension": ".py",
   "mimetype": "text/x-python",
   "name": "python",
   "nbconvert_exporter": "python",
   "pygments_lexer": "ipython3",
   "version": "3.9.21"
  }
 },
 "nbformat": 4,
 "nbformat_minor": 5
}
